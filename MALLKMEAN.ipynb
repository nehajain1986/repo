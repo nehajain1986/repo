{
 "cells": [
  {
   "cell_type": "code",
   "execution_count": 3,
   "metadata": {},
   "outputs": [
    {
     "data": {
      "text/html": [
       "<div>\n",
       "<style scoped>\n",
       "    .dataframe tbody tr th:only-of-type {\n",
       "        vertical-align: middle;\n",
       "    }\n",
       "\n",
       "    .dataframe tbody tr th {\n",
       "        vertical-align: top;\n",
       "    }\n",
       "\n",
       "    .dataframe thead th {\n",
       "        text-align: right;\n",
       "    }\n",
       "</style>\n",
       "<table border=\"1\" class=\"dataframe\">\n",
       "  <thead>\n",
       "    <tr style=\"text-align: right;\">\n",
       "      <th></th>\n",
       "      <th>CustomerID</th>\n",
       "      <th>Genre</th>\n",
       "      <th>Age</th>\n",
       "      <th>Annual_Income_(k$)</th>\n",
       "      <th>Spending_Score</th>\n",
       "    </tr>\n",
       "  </thead>\n",
       "  <tbody>\n",
       "    <tr>\n",
       "      <th>0</th>\n",
       "      <td>1</td>\n",
       "      <td>Male</td>\n",
       "      <td>19</td>\n",
       "      <td>15</td>\n",
       "      <td>39</td>\n",
       "    </tr>\n",
       "    <tr>\n",
       "      <th>1</th>\n",
       "      <td>2</td>\n",
       "      <td>Male</td>\n",
       "      <td>21</td>\n",
       "      <td>15</td>\n",
       "      <td>81</td>\n",
       "    </tr>\n",
       "    <tr>\n",
       "      <th>2</th>\n",
       "      <td>3</td>\n",
       "      <td>Female</td>\n",
       "      <td>20</td>\n",
       "      <td>16</td>\n",
       "      <td>6</td>\n",
       "    </tr>\n",
       "    <tr>\n",
       "      <th>3</th>\n",
       "      <td>4</td>\n",
       "      <td>Female</td>\n",
       "      <td>23</td>\n",
       "      <td>16</td>\n",
       "      <td>77</td>\n",
       "    </tr>\n",
       "    <tr>\n",
       "      <th>4</th>\n",
       "      <td>5</td>\n",
       "      <td>Female</td>\n",
       "      <td>31</td>\n",
       "      <td>17</td>\n",
       "      <td>40</td>\n",
       "    </tr>\n",
       "    <tr>\n",
       "      <th>...</th>\n",
       "      <td>...</td>\n",
       "      <td>...</td>\n",
       "      <td>...</td>\n",
       "      <td>...</td>\n",
       "      <td>...</td>\n",
       "    </tr>\n",
       "    <tr>\n",
       "      <th>195</th>\n",
       "      <td>196</td>\n",
       "      <td>Female</td>\n",
       "      <td>35</td>\n",
       "      <td>120</td>\n",
       "      <td>79</td>\n",
       "    </tr>\n",
       "    <tr>\n",
       "      <th>196</th>\n",
       "      <td>197</td>\n",
       "      <td>Female</td>\n",
       "      <td>45</td>\n",
       "      <td>126</td>\n",
       "      <td>28</td>\n",
       "    </tr>\n",
       "    <tr>\n",
       "      <th>197</th>\n",
       "      <td>198</td>\n",
       "      <td>Male</td>\n",
       "      <td>32</td>\n",
       "      <td>126</td>\n",
       "      <td>74</td>\n",
       "    </tr>\n",
       "    <tr>\n",
       "      <th>198</th>\n",
       "      <td>199</td>\n",
       "      <td>Male</td>\n",
       "      <td>32</td>\n",
       "      <td>137</td>\n",
       "      <td>18</td>\n",
       "    </tr>\n",
       "    <tr>\n",
       "      <th>199</th>\n",
       "      <td>200</td>\n",
       "      <td>Male</td>\n",
       "      <td>30</td>\n",
       "      <td>137</td>\n",
       "      <td>83</td>\n",
       "    </tr>\n",
       "  </tbody>\n",
       "</table>\n",
       "<p>200 rows × 5 columns</p>\n",
       "</div>"
      ],
      "text/plain": [
       "     CustomerID   Genre  Age  Annual_Income_(k$)  Spending_Score\n",
       "0             1    Male   19                  15              39\n",
       "1             2    Male   21                  15              81\n",
       "2             3  Female   20                  16               6\n",
       "3             4  Female   23                  16              77\n",
       "4             5  Female   31                  17              40\n",
       "..          ...     ...  ...                 ...             ...\n",
       "195         196  Female   35                 120              79\n",
       "196         197  Female   45                 126              28\n",
       "197         198    Male   32                 126              74\n",
       "198         199    Male   32                 137              18\n",
       "199         200    Male   30                 137              83\n",
       "\n",
       "[200 rows x 5 columns]"
      ]
     },
     "execution_count": 3,
     "metadata": {},
     "output_type": "execute_result"
    }
   ],
   "source": [
    "import numpy as np\n",
    "import matplotlib.pyplot as plt\n",
    "import pandas as pd\n",
    "dataset = pd.read_csv(\"C:\\\\Users\\\\Admin\\\\Desktop\\\\NEHACDACAssigment\\\\ML\\\\Mall_Customers.csv\")\n",
    "dataset"
   ]
  },
  {
   "cell_type": "code",
   "execution_count": 4,
   "metadata": {},
   "outputs": [
    {
     "data": {
      "text/html": [
       "<div>\n",
       "<style scoped>\n",
       "    .dataframe tbody tr th:only-of-type {\n",
       "        vertical-align: middle;\n",
       "    }\n",
       "\n",
       "    .dataframe tbody tr th {\n",
       "        vertical-align: top;\n",
       "    }\n",
       "\n",
       "    .dataframe thead th {\n",
       "        text-align: right;\n",
       "    }\n",
       "</style>\n",
       "<table border=\"1\" class=\"dataframe\">\n",
       "  <thead>\n",
       "    <tr style=\"text-align: right;\">\n",
       "      <th></th>\n",
       "      <th>CustomerID</th>\n",
       "      <th>Genre</th>\n",
       "      <th>Age</th>\n",
       "      <th>Annual_Income_(k$)</th>\n",
       "      <th>Spending_Score</th>\n",
       "    </tr>\n",
       "  </thead>\n",
       "  <tbody>\n",
       "    <tr>\n",
       "      <th>0</th>\n",
       "      <td>1</td>\n",
       "      <td>Male</td>\n",
       "      <td>19</td>\n",
       "      <td>15</td>\n",
       "      <td>39</td>\n",
       "    </tr>\n",
       "    <tr>\n",
       "      <th>1</th>\n",
       "      <td>2</td>\n",
       "      <td>Male</td>\n",
       "      <td>21</td>\n",
       "      <td>15</td>\n",
       "      <td>81</td>\n",
       "    </tr>\n",
       "    <tr>\n",
       "      <th>2</th>\n",
       "      <td>3</td>\n",
       "      <td>Female</td>\n",
       "      <td>20</td>\n",
       "      <td>16</td>\n",
       "      <td>6</td>\n",
       "    </tr>\n",
       "    <tr>\n",
       "      <th>3</th>\n",
       "      <td>4</td>\n",
       "      <td>Female</td>\n",
       "      <td>23</td>\n",
       "      <td>16</td>\n",
       "      <td>77</td>\n",
       "    </tr>\n",
       "    <tr>\n",
       "      <th>4</th>\n",
       "      <td>5</td>\n",
       "      <td>Female</td>\n",
       "      <td>31</td>\n",
       "      <td>17</td>\n",
       "      <td>40</td>\n",
       "    </tr>\n",
       "  </tbody>\n",
       "</table>\n",
       "</div>"
      ],
      "text/plain": [
       "   CustomerID   Genre  Age  Annual_Income_(k$)  Spending_Score\n",
       "0           1    Male   19                  15              39\n",
       "1           2    Male   21                  15              81\n",
       "2           3  Female   20                  16               6\n",
       "3           4  Female   23                  16              77\n",
       "4           5  Female   31                  17              40"
      ]
     },
     "execution_count": 4,
     "metadata": {},
     "output_type": "execute_result"
    }
   ],
   "source": [
    "dataset.head()"
   ]
  },
  {
   "cell_type": "code",
   "execution_count": 55,
   "metadata": {},
   "outputs": [
    {
     "ename": "AttributeError",
     "evalue": "'DataFrame' object has no attribute 'coloumns'",
     "output_type": "error",
     "traceback": [
      "\u001b[1;31m---------------------------------------------------------------------------\u001b[0m",
      "\u001b[1;31mAttributeError\u001b[0m                            Traceback (most recent call last)",
      "\u001b[1;32m<ipython-input-55-ce1f7a91f202>\u001b[0m in \u001b[0;36m<module>\u001b[1;34m\u001b[0m\n\u001b[1;32m----> 1\u001b[1;33m \u001b[0mdataset\u001b[0m\u001b[1;33m.\u001b[0m\u001b[0mdrop\u001b[0m\u001b[1;33m(\u001b[0m\u001b[0mdataset\u001b[0m\u001b[1;33m.\u001b[0m\u001b[0mcoloumns\u001b[0m\u001b[1;33m(\u001b[0m\u001b[1;33m[\u001b[0m\u001b[1;34m'Genre,CustomerID,Age'\u001b[0m\u001b[1;33m]\u001b[0m\u001b[1;33m,\u001b[0m\u001b[0maxis\u001b[0m\u001b[1;33m=\u001b[0m \u001b[1;36m1\u001b[0m \u001b[1;33m,\u001b[0m\u001b[0minplace\u001b[0m\u001b[1;33m=\u001b[0m\u001b[1;32mTrue\u001b[0m\u001b[1;33m)\u001b[0m\u001b[1;33m)\u001b[0m\u001b[1;33m\u001b[0m\u001b[1;33m\u001b[0m\u001b[0m\n\u001b[0m\u001b[0;32m      2\u001b[0m \u001b[1;33m\u001b[0m\u001b[0m\n\u001b[0;32m      3\u001b[0m \u001b[0mdataset\u001b[0m\u001b[1;33m\u001b[0m\u001b[1;33m\u001b[0m\u001b[0m\n",
      "\u001b[1;32m~\\anaconda3\\lib\\site-packages\\pandas\\core\\generic.py\u001b[0m in \u001b[0;36m__getattr__\u001b[1;34m(self, name)\u001b[0m\n\u001b[0;32m   5137\u001b[0m             \u001b[1;32mif\u001b[0m \u001b[0mself\u001b[0m\u001b[1;33m.\u001b[0m\u001b[0m_info_axis\u001b[0m\u001b[1;33m.\u001b[0m\u001b[0m_can_hold_identifiers_and_holds_name\u001b[0m\u001b[1;33m(\u001b[0m\u001b[0mname\u001b[0m\u001b[1;33m)\u001b[0m\u001b[1;33m:\u001b[0m\u001b[1;33m\u001b[0m\u001b[1;33m\u001b[0m\u001b[0m\n\u001b[0;32m   5138\u001b[0m                 \u001b[1;32mreturn\u001b[0m \u001b[0mself\u001b[0m\u001b[1;33m[\u001b[0m\u001b[0mname\u001b[0m\u001b[1;33m]\u001b[0m\u001b[1;33m\u001b[0m\u001b[1;33m\u001b[0m\u001b[0m\n\u001b[1;32m-> 5139\u001b[1;33m             \u001b[1;32mreturn\u001b[0m \u001b[0mobject\u001b[0m\u001b[1;33m.\u001b[0m\u001b[0m__getattribute__\u001b[0m\u001b[1;33m(\u001b[0m\u001b[0mself\u001b[0m\u001b[1;33m,\u001b[0m \u001b[0mname\u001b[0m\u001b[1;33m)\u001b[0m\u001b[1;33m\u001b[0m\u001b[1;33m\u001b[0m\u001b[0m\n\u001b[0m\u001b[0;32m   5140\u001b[0m \u001b[1;33m\u001b[0m\u001b[0m\n\u001b[0;32m   5141\u001b[0m     \u001b[1;32mdef\u001b[0m \u001b[0m__setattr__\u001b[0m\u001b[1;33m(\u001b[0m\u001b[0mself\u001b[0m\u001b[1;33m,\u001b[0m \u001b[0mname\u001b[0m\u001b[1;33m:\u001b[0m \u001b[0mstr\u001b[0m\u001b[1;33m,\u001b[0m \u001b[0mvalue\u001b[0m\u001b[1;33m)\u001b[0m \u001b[1;33m->\u001b[0m \u001b[1;32mNone\u001b[0m\u001b[1;33m:\u001b[0m\u001b[1;33m\u001b[0m\u001b[1;33m\u001b[0m\u001b[0m\n",
      "\u001b[1;31mAttributeError\u001b[0m: 'DataFrame' object has no attribute 'coloumns'"
     ]
    }
   ],
   "source": [
    "dataset.drop(dataset.coloumns(['Genre,CustomerID,Age'],axis= 1 ,inplace=True))\n",
    "\n",
    "dataset\n"
   ]
  },
  {
   "cell_type": "code",
   "execution_count": 56,
   "metadata": {},
   "outputs": [],
   "source": [
    "from sklearn.cluster import KMeans\n",
    "from sklearn.decomposition import PCA\n",
    "from sklearn.preprocessing import StandardScaler\n"
   ]
  },
  {
   "cell_type": "code",
   "execution_count": 10,
   "metadata": {},
   "outputs": [
    {
     "data": {
      "text/plain": [
       "array([0.81899053, 0.96068389, 0.99481231, 1.        ])"
      ]
     },
     "execution_count": 10,
     "metadata": {},
     "output_type": "execute_result"
    }
   ],
   "source": [
    "pca=PCA()\n",
    "pca.fit(dataset)\n",
    "pca.explained_variance_ratio_.cumsum()\n"
   ]
  },
  {
   "cell_type": "code",
   "execution_count": 13,
   "metadata": {},
   "outputs": [
    {
     "data": {
      "text/plain": [
       "Text(0.5, 1.0, 'Explained Variance by Components')"
      ]
     },
     "execution_count": 13,
     "metadata": {},
     "output_type": "execute_result"
    },
    {
     "data": {
      "image/png": "[encoded data removed]",
      "text/plain": [
       "<Figure size 720x360 with 1 Axes>"
      ]
     },
     "metadata": {
      "needs_background": "light"
     },
     "output_type": "display_data"
    }
   ],
   "source": [
    "plt.figure(figsize=(10,5))\n",
    "plt.plot (range (1,5), pca.explained_variance_ratio_.cumsum (), marker = 'o', linestyle='--')\n",
    "plt.title('Explained Variance by Components')\n",
    "#plt.xlabel('Number of Components')\n",
    "#plt.ylabel('Cumulative Explained Variance')\n",
    "\n"
   ]
  },
  {
   "cell_type": "code",
   "execution_count": 14,
   "metadata": {},
   "outputs": [
    {
     "data": {
      "text/plain": [
       "array([0.81899053, 0.96068389, 0.99481231])"
      ]
     },
     "execution_count": 14,
     "metadata": {},
     "output_type": "execute_result"
    }
   ],
   "source": [
    "pca=PCA(n_components= 3)\n",
    "pca.fit(dataset)\n",
    "pca.explained_variance_ratio_\n",
    "pca.explained_variance_ratio_.cumsum()"
   ]
  },
  {
   "cell_type": "code",
   "execution_count": 15,
   "metadata": {},
   "outputs": [
    {
     "name": "stdout",
     "output_type": "stream",
     "text": [
      "[[-1.09384203e+02  5.47772303e+00 -2.23689626e+01]\n",
      " [-1.08203115e+02 -3.49325311e+01 -1.07789447e+01]\n",
      " [-1.07376109e+02  3.78413764e+01 -2.89679217e+01]\n",
      " [-1.06007616e+02 -3.05622516e+01 -9.74050559e+00]\n",
      " [-1.04980136e+02  7.29722069e+00 -1.04412659e+01]\n",
      " [-1.03774532e+02 -2.98007906e+01 -1.09310635e+01]\n",
      " [-1.02996298e+02  4.13232718e+01 -1.43516014e+01]\n",
      " [-1.01426552e+02 -4.70708699e+01 -5.80954387e+00]\n",
      " [-1.00952459e+02  5.09230257e+01  1.31825838e+01]\n",
      " [-9.93803318e+01 -2.40341569e+01 -4.04368266e+00]\n",
      " [-9.90709231e+01  4.09171508e+01  1.86134356e+01]\n",
      " [-9.74038927e+01 -4.91519408e+01  7.00980674e+00]\n",
      " [-9.67775993e+01  3.78943584e+01  1.01000058e+01]\n",
      " [-9.52521231e+01 -3.02503511e+01 -8.73495386e+00]\n",
      " [-9.48419680e+01  3.50267217e+01 -1.08042112e+01]\n",
      " [-9.34012477e+01 -3.26459773e+01 -1.02364834e+01]\n",
      " [-9.24497381e+01  1.31746134e+01 -7.68187531e+00]\n",
      " [-9.12422731e+01 -2.04357200e+01 -1.51576134e+01]\n",
      " [-8.99474604e+01  2.29449767e+01  7.51672135e+00]\n",
      " [-8.84750191e+01 -4.81068118e+01  6.82826438e+00]\n",
      " [-8.75739033e+01  1.32182995e+01 -7.63014056e+00]\n",
      " [-8.63491067e+01 -2.60558617e+01 -8.63312383e+00]\n",
      " [-8.56044545e+01  4.49596123e+01 -3.81153653e+00]\n",
      " [-8.41504054e+01 -2.46595076e+01 -2.78418216e+00]\n",
      " [-8.25413696e+01  3.80719841e+01  6.10654812e+00]\n",
      " [-8.10286818e+01 -3.38444265e+01 -2.59422074e+00]\n",
      " [-8.05428161e+01  1.84968873e+01  1.47234523e+00]\n",
      " [-7.93779994e+01 -1.20183799e+01 -1.59895782e+00]\n",
      " [-7.82862767e+01  1.83394321e+01 -3.60946196e+00]\n",
      " [-7.69004730e+01 -4.00606206e+01 -7.28549193e+00]\n",
      " [-7.63496094e+01  4.92286751e+01  9.65389291e+00]\n",
      " [-7.47481628e+01 -2.68771529e+01 -1.24364352e+01]\n",
      " [-7.32585463e+01  4.76540049e+01  2.91147294e+00]\n",
      " [-7.15539310e+01 -4.60239053e+01 -1.09211530e+01]\n",
      " [-7.13426277e+01  3.70132370e+01  1.30282519e+00]\n",
      " [-6.98190126e+01 -3.46191503e+01 -1.05461939e+01]\n",
      " [-6.90477027e+01  3.25034818e+01 -4.80535341e+00]\n",
      " [-6.76912184e+01 -2.47479255e+01 -3.61732177e+00]\n",
      " [-6.59025236e+01  2.23996467e+01 -8.50664128e+00]\n",
      " [-6.45692348e+01 -2.89582038e+01 -1.28185521e+01]\n",
      " [-6.37787115e+01  2.03208753e+01  2.17853036e+01]\n",
      " [-6.22455104e+01 -4.45658854e+01 -5.00840882e+00]\n",
      " [-6.14384767e+01  1.54602504e+01  5.48937515e+00]\n",
      " [-6.02592705e+01 -1.27702785e+01 -5.31086739e+00]\n",
      " [-5.96718372e+01  2.34859158e+01  4.60814947e+00]\n",
      " [-5.83657469e+01 -1.82609709e+01 -1.12168320e+01]\n",
      " [-5.72638769e+01 -2.54305748e+00  1.17979889e+01]\n",
      " [-5.62694138e+01 -3.60160664e-02 -1.24229668e+01]\n",
      " [-5.54015543e+01  5.29462070e+00 -1.16341745e+01]\n",
      " [-5.45003727e+01  5.75920525e+00 -9.69631560e+00]\n",
      " [-5.28102373e+01  1.82804080e-01  1.01598721e+01]\n",
      " [-5.17501904e+01 -1.12734182e+01 -3.57438439e+00]\n",
      " [-5.04574741e+01 -5.88076038e+00 -6.87905538e+00]\n",
      " [-4.96687666e+01 -5.28248275e+00  2.17308038e+01]\n",
      " [-4.88030489e+01  7.25323873e+00  9.52052744e+00]\n",
      " [-4.78992056e+01  1.04620197e+01  5.67507147e+00]\n",
      " [-4.65417061e+01  2.63489521e+00  1.16544740e+01]\n",
      " [-4.57610042e+01  1.06679866e+01  2.82380769e+01]\n",
      " [-4.37523584e+01 -3.82610638e+00 -1.14235414e+01]\n",
      " [-4.30252319e+01  7.01802802e+00  1.27127467e+01]\n",
      " [-4.21453640e+01  1.19644412e+00  3.15409235e+01]\n",
      " [-4.09400614e+01 -9.54140148e+00 -1.83100840e+01]\n",
      " [-3.99205456e+01  4.41807834e+00  2.77153010e+01]\n",
      " [-3.88847548e+01 -5.37574625e+00  1.66696682e+01]\n",
      " [-3.76698701e+01  4.49035217e+00  2.36063062e+01]\n",
      " [-3.64397708e+01 -1.36280130e+01 -1.83395077e+01]\n",
      " [-3.57334382e+01  8.79234071e-01  3.90471487e+00]\n",
      " [-3.49804546e+01  8.57400806e+00  2.77576306e+01]\n",
      " [-3.37069065e+01 -1.33829047e+01 -1.73899927e+01]\n",
      " [-3.29502007e+01  1.28722489e+00 -7.50895792e+00]\n",
      " [-3.17987374e+01  2.24409913e+00  3.13162503e+01]\n",
      " [-3.08375965e+01  9.61719278e+00  5.94622811e+00]\n",
      " [-2.95462007e+01  5.80405078e+00  2.02213150e+01]\n",
      " [-2.85866403e+01 -1.00329594e+00  2.18222424e+01]\n",
      " [-2.60955840e+01  7.56190274e+00  1.88837416e+01]\n",
      " [-2.49425157e+01 -6.82650321e+00 -1.16181377e+01]\n",
      " [-2.41476843e+01 -1.48331407e+00  6.62771739e+00]\n",
      " [-2.32387777e+01  2.23921923e+00  6.06823466e-01]\n",
      " [-2.21995247e+01 -5.55389030e+00 -1.50194986e+01]\n",
      " [-2.15057204e+01  1.01562963e+01  7.96772298e+00]\n",
      " [-2.05797421e+01  3.24036127e+00  1.78107756e+01]\n",
      " [-1.95287614e+01 -5.01220640e+00  2.38828900e-01]\n",
      " [-1.88792065e+01  1.52800092e+01  2.52252342e+01]\n",
      " [-1.78231624e+01  7.54119386e+00  5.47784955e+00]\n",
      " [-1.66770184e+01 -1.08486422e+01 -1.58626513e+01]\n",
      " [-1.59957425e+01  6.06448392e+00  7.86756927e+00]\n",
      " [-1.38197098e+01 -3.97763105e+00  1.75100473e+01]\n",
      " [-1.27332858e+01 -8.63393254e+00 -1.52899651e+01]\n",
      " [-1.14493550e+01 -1.07303827e+01 -2.44731713e+00]\n",
      " [-1.07235697e+01  6.57535501e+00  9.89252794e+00]\n",
      " [-9.44816445e+00  1.96443746e+00  2.94913030e+01]\n",
      " [-8.33536337e+00  4.10805672e+00 -2.23744652e+01]\n",
      " [-7.13698903e+00  3.22709842e+00  8.66824447e+00]\n",
      " [-6.23714855e+00  1.01532863e+01 -1.19033967e+00]\n",
      " [-5.26399928e+00  6.37415927e+00 -8.52097740e+00]\n",
      " [-4.23753454e+00 -5.19065132e+00 -1.40131087e+01]\n",
      " [-3.49281646e+00  4.96429588e+00  7.20474245e+00]\n",
      " [-2.44263625e+00 -2.54479041e+00 -1.15698299e+01]\n",
      " [-1.29811799e+00  1.00780568e+01  7.04055596e+00]\n",
      " [-1.74369040e-01 -3.16170379e+00 -1.85972617e+01]\n",
      " [ 1.07569898e+00  5.32602022e+00 -1.74974977e+01]\n",
      " [ 1.88279865e+00  4.49162927e+00  9.39655010e+00]\n",
      " [ 2.76346707e+00 -2.07343601e+00  2.94273525e+01]\n",
      " [ 3.89013762e+00 -7.59435960e+00 -1.13849717e+01]\n",
      " [ 4.67484230e+00 -3.27867508e+00  1.12117593e+01]\n",
      " [ 5.65863812e+00  3.91898367e+00 -1.92521379e+01]\n",
      " [ 6.76905433e+00  6.48396139e+00  2.63827566e+01]\n",
      " [ 7.72567248e+00  7.62518077e+00  1.37819898e+01]\n",
      " [ 8.53649431e+00  1.37661455e+01  2.67041566e+01]\n",
      " [ 9.49445363e+00  8.44576151e+00  2.58998327e+01]\n",
      " [ 1.04398846e+01  4.32831707e+00  2.58385079e+01]\n",
      " [ 1.16358612e+01 -8.18051453e+00 -1.84589982e+01]\n",
      " [ 1.27654494e+01  7.87571634e+00 -2.71349022e+00]\n",
      " [ 1.38164302e+01 -3.76851323e-01 -2.02854369e+01]\n",
      " [ 1.51565981e+01 -2.54014804e+00 -2.07787891e+01]\n",
      " [ 1.60769725e+01 -4.25171346e+00 -1.93541159e+01]\n",
      " [ 1.66852203e+01  1.26739650e+01  2.18331674e+01]\n",
      " [ 1.77868549e+01 -6.10848262e+00  1.18830420e+01]\n",
      " [ 1.93975370e+01  9.94292271e+00  1.01990865e+01]\n",
      " [ 2.04096124e+01 -3.90662619e+00  1.24358947e+01]\n",
      " [ 2.14507265e+01 -8.21205789e+00 -1.01763678e+01]\n",
      " [ 2.21925023e+01  9.89145539e+00 -3.16021094e+00]\n",
      " [ 2.40297752e+01 -7.14629443e+00  2.96948604e+00]\n",
      " [ 2.51684749e+01 -3.94868418e+01  9.57274714e+00]\n",
      " [ 2.61700770e+01  1.71893940e+01 -2.02208417e+01]\n",
      " [ 2.73559683e+01 -2.76817484e+01 -1.41507003e+00]\n",
      " [ 2.83266706e+01  1.59626923e+01  6.26352388e-01]\n",
      " [ 2.96570378e+01 -4.31139952e+01  1.14889482e+01]\n",
      " [ 2.98987210e+01  4.30056609e+01  1.06602986e+01]\n",
      " [ 3.13612956e+01 -2.40989916e+01  4.93152581e+00]\n",
      " [ 3.17815774e+01  4.22055858e+01 -1.48860742e+00]\n",
      " [ 3.31812505e+01 -2.38590097e+01  5.88880659e+00]\n",
      " [ 3.43110780e+01  1.28392648e+01 -1.71330781e+01]\n",
      " [ 3.54353883e+01 -2.17860209e+01 -2.80087749e+00]\n",
      " [ 3.63810133e+01  3.99317021e+01 -2.86496579e+01]\n",
      " [ 3.77942959e+01 -3.87720769e+01 -8.27608156e-01]\n",
      " [ 3.80794280e+01  4.35090316e+01 -4.85806708e+00]\n",
      " [ 3.95025566e+01 -2.34744802e+01 -1.37190236e+00]\n",
      " [ 4.04799027e+01  3.48641532e+01 -2.84768675e+01]\n",
      " [ 4.17121850e+01 -2.17941029e+01  1.32878904e+00]\n",
      " [ 4.24576377e+01  4.84778897e+01  7.35300198e+00]\n",
      " [ 4.41036143e+01 -4.29027298e+01  3.24849929e+00]\n",
      " [ 4.50948299e+01  7.77136075e+00 -1.28030219e+01]\n",
      " [ 4.62975122e+01 -3.70454875e+01  1.88168717e+00]\n",
      " [ 4.71597018e+01  3.43500457e+01 -2.21441637e+01]\n",
      " [ 4.86214966e+01 -4.76785286e+01  3.00638704e-01]\n",
      " [ 4.90105979e+01  1.62870163e+01  5.73050757e+00]\n",
      " [ 5.02705779e+01 -2.43655193e+01 -1.10934964e+00]\n",
      " [ 5.12332746e+01  2.67137353e+01 -1.10941835e+01]\n",
      " [ 5.25993656e+01 -3.94594486e+01  4.52535568e+00]\n",
      " [ 5.29729963e+01  3.36576019e+01 -3.50347071e+00]\n",
      " [ 5.43825361e+01 -3.63541296e+01  8.91425914e+00]\n",
      " [ 5.48129446e+01  3.09779525e+01 -1.85675001e+00]\n",
      " [ 5.61342456e+01 -2.48950805e+01  5.16815557e+00]\n",
      " [ 5.65945140e+01  3.55702343e+01  1.26902189e-01]\n",
      " [ 5.81112046e+01 -4.00635832e+01 -2.56073851e+00]\n",
      " [ 5.83790050e+01  4.78813531e+01 -1.30639522e+01]\n",
      " [ 5.98461230e+01 -2.86588283e+01 -2.18577948e+00]\n",
      " [ 6.02224154e+01  4.72024187e+01 -1.59979207e+01]\n",
      " [ 6.16386196e+01 -2.37825232e+01 -3.35037756e+00]\n",
      " [ 6.25538854e+01  1.91852827e+01  1.32296706e+01]\n",
      " [ 6.39450124e+01 -3.37263771e+01 -2.01298906e+00]\n",
      " [ 6.52128660e+01  3.99073270e+01 -2.96191176e+01]\n",
      " [ 6.66418792e+01 -4.29733170e+01  2.27043568e+00]\n",
      " [ 6.86291207e+01  2.66326689e+01  5.45900948e+00]\n",
      " [ 6.99506817e+01 -2.42657235e+01  3.09272331e+00]\n",
      " [ 7.08699297e+01  3.06520787e+01 -3.69030122e+00]\n",
      " [ 7.23354466e+01 -4.44011399e+01  4.78262025e+00]\n",
      " [ 7.31856485e+01  2.24792108e+01 -7.90641426e+00]\n",
      " [ 7.43619330e+01 -1.34701551e+01 -3.53215022e+00]\n",
      " [ 7.48947097e+01  3.70333261e+01 -7.24808283e+00]\n",
      " [ 7.62911805e+01 -2.60573439e+01 -4.68117134e+00]\n",
      " [ 7.67239906e+01  3.90442940e+01 -1.18443036e+01]\n",
      " [ 7.81833837e+01 -4.07538361e+01  6.99262195e+00]\n",
      " [ 7.88840465e+01  3.98183074e+01  4.42220124e+00]\n",
      " [ 8.04124649e+01 -3.62749682e+01 -2.11064107e-01]\n",
      " [ 8.06880109e+01  3.92605138e+01  1.07031703e+01]\n",
      " [ 8.21425799e+01 -2.04093250e+01 -7.05185886e+00]\n",
      " [ 8.45416300e+01  4.05123402e+01  1.15686341e+01]\n",
      " [ 8.61017695e+01 -3.89600249e+01  5.67918404e+00]\n",
      " [ 8.82486768e+01  1.79816729e+01 -5.60173188e+00]\n",
      " [ 8.95507851e+01 -3.57152101e+01  1.93635941e+00]\n",
      " [ 9.03164911e+01  3.66117917e+01 -7.41179479e-01]\n",
      " [ 9.18155901e+01 -3.83328386e+01 -5.10383211e-01]\n",
      " [ 9.27396414e+01  1.21240753e+01 -7.76539506e-02]\n",
      " [ 9.41035906e+01 -4.68440239e+01  2.54281663e+00]\n",
      " [ 9.52053947e+01  2.97344163e+01  9.16137363e+00]\n",
      " [ 9.65640000e+01 -1.90546726e+01 -6.02772696e+00]\n",
      " [ 9.78769243e+01  3.35861181e+01 -5.05421272e+00]\n",
      " [ 9.92723347e+01 -3.37357112e+01  5.70126489e+00]\n",
      " [ 9.97837768e+01  2.61490047e+01 -1.05005507e+01]\n",
      " [ 1.01014978e+02 -1.90730075e+01 -1.88252888e+00]\n",
      " [ 1.05596150e+02  4.06049535e+01 -1.46601014e+01]\n",
      " [ 1.07032888e+02 -3.90177418e+01  9.27069907e+00]\n",
      " [ 1.10249650e+02  3.60998175e+01  9.75440991e-01]\n",
      " [ 1.11652786e+02 -2.79640630e+01  3.77216579e+00]\n",
      " [ 1.14615565e+02  2.40184478e+01  1.93764017e+00]\n",
      " [ 1.15911268e+02 -2.37305842e+01 -1.45273607e-01]\n",
      " [ 1.20939693e+02  3.08593223e+01 -1.27189926e+01]\n",
      " [ 1.22297518e+02 -3.28536884e+01  2.65482024e-01]]\n"
     ]
    }
   ],
   "source": [
    "df= pca.transform(dataset)\n",
    "print(df)\n",
    "df1=np.transpose(df)\n",
    "PCA1=df1[0]\n",
    "PCA2=df1[1]"
   ]
  },
  {
   "cell_type": "code",
   "execution_count": 19,
   "metadata": {},
   "outputs": [
    {
     "name": "stdout",
     "output_type": "stream",
     "text": [
      "[970402.3856048115, 382245.93019803107, 266399.7432206714, 190445.35219682415, 152234.32106454627, 117817.51046283639, 98827.7460220949, 82069.16619386806, 72992.34955986716]\n"
     ]
    }
   ],
   "source": [
    "from sklearn.cluster import KMeans\n",
    "sse = []\n",
    "kmeans =  range(1,10)\n",
    "for k in kmeans:\n",
    "    km =  KMeans (n_clusters=k)\n",
    "    km.fit(df)\n",
    "    sse.append(km.inertia_)\n",
    "print(sse)\n",
    "  "
   ]
  },
  {
   "cell_type": "code",
   "execution_count": 20,
   "metadata": {},
   "outputs": [
    {
     "data": {
      "text/plain": [
       "[<matplotlib.lines.Line2D at 0x18e344e51f0>]"
      ]
     },
     "execution_count": 20,
     "metadata": {},
     "output_type": "execute_result"
    },
    {
     "data": {
      "image/png": "[encoded data removed]",
      "text/plain": [
       "<Figure size 432x288 with 1 Axes>"
      ]
     },
     "metadata": {
      "needs_background": "light"
     },
     "output_type": "display_data"
    }
   ],
   "source": [
    "plt.xlabel('K')\n",
    "plt.ylabel('Sum of squared error')\n",
    "plt.plot(kmeans,sse)\n"
   ]
  },
  {
   "cell_type": "code",
   "execution_count": 33,
   "metadata": {},
   "outputs": [
    {
     "data": {
      "text/plain": [
       "array([2, 2, 2, 2, 2, 2, 2, 2, 2, 2, 2, 2, 2, 2, 2, 2, 2, 2, 2, 2, 2, 2,\n",
       "       2, 2, 2, 2, 2, 2, 2, 2, 2, 2, 2, 2, 2, 2, 2, 2, 2, 2, 2, 2, 2, 2,\n",
       "       2, 2, 2, 2, 2, 2, 2, 2, 2, 2, 2, 2, 2, 2, 2, 2, 0, 2, 0, 0, 0, 0,\n",
       "       0, 0, 0, 0, 0, 0, 0, 0, 0, 0, 0, 0, 0, 0, 0, 0, 0, 0, 0, 0, 0, 0,\n",
       "       0, 0, 0, 0, 0, 0, 0, 0, 0, 0, 0, 0, 0, 0, 0, 0, 0, 0, 0, 0, 0, 0,\n",
       "       0, 0, 0, 0, 0, 0, 0, 0, 0, 0, 0, 0, 0, 0, 0, 0, 0, 0, 0, 0, 0, 0,\n",
       "       1, 1, 1, 1, 1, 1, 1, 1, 1, 1, 1, 1, 1, 1, 1, 1, 1, 1, 1, 1, 1, 1,\n",
       "       1, 1, 1, 1, 1, 1, 1, 1, 1, 1, 1, 1, 1, 1, 1, 1, 1, 1, 1, 1, 1, 1,\n",
       "       1, 1, 1, 1, 1, 1, 1, 1, 1, 1, 1, 1, 1, 1, 1, 1, 1, 1, 1, 1, 1, 1,\n",
       "       1, 1])"
      ]
     },
     "execution_count": 33,
     "metadata": {},
     "output_type": "execute_result"
    }
   ],
   "source": [
    "km = KMeans(n_clusters=4)\n",
    "df_plot= pd.DataFrame()\n",
    "y_predicted = km.fit_predict(df)\n",
    "y_predicted"
   ]
  },
  {
   "cell_type": "code",
   "execution_count": 32,
   "metadata": {},
   "outputs": [
    {
     "data": {
      "text/plain": [
       "array([[ 66.99373894, -31.97145841,   1.58663938],\n",
       "       [ -8.50881494,   2.00945893,   4.65954779],\n",
       "       [ 68.90626218,  32.43166601,  -5.261237  ],\n",
       "       [-76.81016053,  -0.90300657,  -3.05092471]])"
      ]
     },
     "execution_count": 32,
     "metadata": {},
     "output_type": "execute_result"
    }
   ],
   "source": [
    "km.cluster_centers_\n"
   ]
  },
  {
   "cell_type": "code",
   "execution_count": 34,
   "metadata": {},
   "outputs": [
    {
     "data": {
      "text/html": [
       "<div>\n",
       "<style scoped>\n",
       "    .dataframe tbody tr th:only-of-type {\n",
       "        vertical-align: middle;\n",
       "    }\n",
       "\n",
       "    .dataframe tbody tr th {\n",
       "        vertical-align: top;\n",
       "    }\n",
       "\n",
       "    .dataframe thead th {\n",
       "        text-align: right;\n",
       "    }\n",
       "</style>\n",
       "<table border=\"1\" class=\"dataframe\">\n",
       "  <thead>\n",
       "    <tr style=\"text-align: right;\">\n",
       "      <th></th>\n",
       "      <th>pca1</th>\n",
       "      <th>pca2</th>\n",
       "      <th>cluster</th>\n",
       "    </tr>\n",
       "  </thead>\n",
       "  <tbody>\n",
       "    <tr>\n",
       "      <th>0</th>\n",
       "      <td>-109.384203</td>\n",
       "      <td>5.477723</td>\n",
       "      <td>2</td>\n",
       "    </tr>\n",
       "    <tr>\n",
       "      <th>1</th>\n",
       "      <td>-108.203115</td>\n",
       "      <td>-34.932531</td>\n",
       "      <td>2</td>\n",
       "    </tr>\n",
       "    <tr>\n",
       "      <th>2</th>\n",
       "      <td>-107.376109</td>\n",
       "      <td>37.841376</td>\n",
       "      <td>2</td>\n",
       "    </tr>\n",
       "    <tr>\n",
       "      <th>3</th>\n",
       "      <td>-106.007616</td>\n",
       "      <td>-30.562252</td>\n",
       "      <td>2</td>\n",
       "    </tr>\n",
       "    <tr>\n",
       "      <th>4</th>\n",
       "      <td>-104.980136</td>\n",
       "      <td>7.297221</td>\n",
       "      <td>2</td>\n",
       "    </tr>\n",
       "    <tr>\n",
       "      <th>...</th>\n",
       "      <td>...</td>\n",
       "      <td>...</td>\n",
       "      <td>...</td>\n",
       "    </tr>\n",
       "    <tr>\n",
       "      <th>195</th>\n",
       "      <td>111.652786</td>\n",
       "      <td>-27.964063</td>\n",
       "      <td>1</td>\n",
       "    </tr>\n",
       "    <tr>\n",
       "      <th>196</th>\n",
       "      <td>114.615565</td>\n",
       "      <td>24.018448</td>\n",
       "      <td>1</td>\n",
       "    </tr>\n",
       "    <tr>\n",
       "      <th>197</th>\n",
       "      <td>115.911268</td>\n",
       "      <td>-23.730584</td>\n",
       "      <td>1</td>\n",
       "    </tr>\n",
       "    <tr>\n",
       "      <th>198</th>\n",
       "      <td>120.939693</td>\n",
       "      <td>30.859322</td>\n",
       "      <td>1</td>\n",
       "    </tr>\n",
       "    <tr>\n",
       "      <th>199</th>\n",
       "      <td>122.297518</td>\n",
       "      <td>-32.853688</td>\n",
       "      <td>1</td>\n",
       "    </tr>\n",
       "  </tbody>\n",
       "</table>\n",
       "<p>200 rows × 3 columns</p>\n",
       "</div>"
      ],
      "text/plain": [
       "           pca1       pca2  cluster\n",
       "0   -109.384203   5.477723        2\n",
       "1   -108.203115 -34.932531        2\n",
       "2   -107.376109  37.841376        2\n",
       "3   -106.007616 -30.562252        2\n",
       "4   -104.980136   7.297221        2\n",
       "..          ...        ...      ...\n",
       "195  111.652786 -27.964063        1\n",
       "196  114.615565  24.018448        1\n",
       "197  115.911268 -23.730584        1\n",
       "198  120.939693  30.859322        1\n",
       "199  122.297518 -32.853688        1\n",
       "\n",
       "[200 rows x 3 columns]"
      ]
     },
     "execution_count": 34,
     "metadata": {},
     "output_type": "execute_result"
    }
   ],
   "source": [
    "df_plot= pd.DataFrame()\n",
    "df_plot['pca1']=np.transpose(PCA1)\n",
    "df_plot['pca2']=np.transpose(PCA2)\n",
    "df_plot['cluster']=y_predicted\n",
    "df_plot"
   ]
  },
  {
   "cell_type": "code",
   "execution_count": 44,
   "metadata": {},
   "outputs": [],
   "source": [
    "df_plot1 = df_plot[df_plot.cluster==0]\n",
    "df_plot2 = df_plot[df_plot.cluster==1]\n",
    "df_plot3 = df_plot[df_plot.cluster==2]\n",
    "df_plot4 = df_plot[df_plot.cluster==3]\n"
   ]
  },
  {
   "cell_type": "code",
   "execution_count": 45,
   "metadata": {},
   "outputs": [
    {
     "data": {
      "text/plain": [
       "60    -42.145364\n",
       "62    -39.920546\n",
       "63    -38.884755\n",
       "64    -37.669870\n",
       "65    -36.439771\n",
       "         ...    \n",
       "127    29.657038\n",
       "128    29.898721\n",
       "129    31.361296\n",
       "130    31.781577\n",
       "131    33.181251\n",
       "Name: pca1, Length: 71, dtype: float64"
      ]
     },
     "execution_count": 45,
     "metadata": {},
     "output_type": "execute_result"
    }
   ],
   "source": [
    "df_plot1['pca1']\n"
   ]
  },
  {
   "cell_type": "code",
   "execution_count": 46,
   "metadata": {},
   "outputs": [
    {
     "ename": "AttributeError",
     "evalue": "'KMeans' object has no attribute 'cluster_centers_'",
     "output_type": "error",
     "traceback": [
      "\u001b[1;31m---------------------------------------------------------------------------\u001b[0m",
      "\u001b[1;31mAttributeError\u001b[0m                            Traceback (most recent call last)",
      "\u001b[1;32m<ipython-input-46-4c5e49bf4fc2>\u001b[0m in \u001b[0;36m<module>\u001b[1;34m\u001b[0m\n\u001b[0;32m      3\u001b[0m \u001b[0mplt\u001b[0m\u001b[1;33m.\u001b[0m\u001b[0mscatter\u001b[0m\u001b[1;33m(\u001b[0m\u001b[0mdf_plot3\u001b[0m\u001b[1;33m[\u001b[0m\u001b[1;34m'pca1'\u001b[0m\u001b[1;33m]\u001b[0m\u001b[1;33m,\u001b[0m\u001b[0mdf_plot3\u001b[0m\u001b[1;33m[\u001b[0m\u001b[1;34m'pca2'\u001b[0m\u001b[1;33m]\u001b[0m\u001b[1;33m,\u001b[0m\u001b[0mcolor\u001b[0m\u001b[1;33m=\u001b[0m\u001b[1;34m'yellow'\u001b[0m\u001b[1;33m,\u001b[0m\u001b[0mlabel\u001b[0m\u001b[1;33m=\u001b[0m\u001b[1;34m'cluster3'\u001b[0m\u001b[1;33m)\u001b[0m\u001b[1;33m\u001b[0m\u001b[1;33m\u001b[0m\u001b[0m\n\u001b[0;32m      4\u001b[0m \u001b[0mplt\u001b[0m\u001b[1;33m.\u001b[0m\u001b[0mscatter\u001b[0m\u001b[1;33m(\u001b[0m\u001b[0mdf_plot4\u001b[0m\u001b[1;33m[\u001b[0m\u001b[1;34m'pca1'\u001b[0m\u001b[1;33m]\u001b[0m\u001b[1;33m,\u001b[0m\u001b[0mdf_plot4\u001b[0m\u001b[1;33m[\u001b[0m\u001b[1;34m'pca2'\u001b[0m\u001b[1;33m]\u001b[0m\u001b[1;33m,\u001b[0m\u001b[0mcolor\u001b[0m\u001b[1;33m=\u001b[0m\u001b[1;34m'blue'\u001b[0m\u001b[1;33m,\u001b[0m\u001b[0mlabel\u001b[0m\u001b[1;33m=\u001b[0m\u001b[1;34m'cluster4'\u001b[0m\u001b[1;33m)\u001b[0m\u001b[1;33m\u001b[0m\u001b[1;33m\u001b[0m\u001b[0m\n\u001b[1;32m----> 5\u001b[1;33m \u001b[0mplt\u001b[0m\u001b[1;33m.\u001b[0m\u001b[0mscatter\u001b[0m\u001b[1;33m(\u001b[0m\u001b[0mkm\u001b[0m\u001b[1;33m.\u001b[0m\u001b[0mcluster_centers_\u001b[0m\u001b[1;33m[\u001b[0m\u001b[1;33m:\u001b[0m\u001b[1;33m,\u001b[0m\u001b[1;36m0\u001b[0m\u001b[1;33m]\u001b[0m\u001b[1;33m,\u001b[0m\u001b[0mkm\u001b[0m\u001b[1;33m.\u001b[0m\u001b[0mcluster_centers_\u001b[0m\u001b[1;33m[\u001b[0m\u001b[1;33m:\u001b[0m\u001b[1;33m,\u001b[0m\u001b[1;36m1\u001b[0m\u001b[1;33m]\u001b[0m\u001b[1;33m,\u001b[0m\u001b[0mcolor\u001b[0m\u001b[1;33m=\u001b[0m\u001b[1;34m'black'\u001b[0m\u001b[1;33m,\u001b[0m\u001b[0mmarker\u001b[0m\u001b[1;33m=\u001b[0m\u001b[1;34m'*'\u001b[0m\u001b[1;33m)\u001b[0m\u001b[1;33m\u001b[0m\u001b[1;33m\u001b[0m\u001b[0m\n\u001b[0m\u001b[0;32m      6\u001b[0m \u001b[1;33m\u001b[0m\u001b[0m\n\u001b[0;32m      7\u001b[0m \u001b[0mplt\u001b[0m\u001b[1;33m.\u001b[0m\u001b[0mlegend\u001b[0m\u001b[1;33m(\u001b[0m\u001b[1;33m)\u001b[0m\u001b[1;33m\u001b[0m\u001b[1;33m\u001b[0m\u001b[0m\n",
      "\u001b[1;31mAttributeError\u001b[0m: 'KMeans' object has no attribute 'cluster_centers_'"
     ]
    },
    {
     "data": {
      "image/png": "[encoded data removed]",
      "text/plain": [
       "<Figure size 432x288 with 1 Axes>"
      ]
     },
     "metadata": {
      "needs_background": "light"
     },
     "output_type": "display_data"
    }
   ],
   "source": [
    "plt.scatter(df_plot1['pca1'],df_plot1['pca2'],color='green',label='cluster1')\n",
    "plt.scatter(df_plot2['pca1'],df_plot2['pca2'],color='red',label='cluster2')\n",
    "plt.scatter(df_plot3['pca1'],df_plot3['pca2'],color='yellow',label='cluster3')\n",
    "plt.scatter(df_plot4['pca1'],df_plot4['pca2'],color='blue',label='cluster4')\n",
    "plt.scatter(km.cluster_centers_[:,0],km.cluster_centers_[:,1],color='black',marker='*')\n",
    "x.\n",
    "\n",
    "plt.legend()\n",
    "\n"
   ]
  },
  {
   "cell_type": "code",
   "execution_count": null,
   "metadata": {},
   "outputs": [],
   "source": []
  },
  {
   "cell_type": "code",
   "execution_count": null,
   "metadata": {},
   "outputs": [],
   "source": []
  }
 ],
 "metadata": {
  "kernelspec": {
   "display_name": "Python 3",
   "language": "python",
   "name": "python3"
  },
  "language_info": {
   "codemirror_mode": {
    "name": "ipython",
    "version": 3
   },
   "file_extension": ".py",
   "mimetype": "text/x-python",
   "name": "python",
   "nbconvert_exporter": "python",
   "pygments_lexer": "ipython3",
   "version": "3.8.5"
  }
 },
 "nbformat": 4,
 "nbformat_minor": 4
}
